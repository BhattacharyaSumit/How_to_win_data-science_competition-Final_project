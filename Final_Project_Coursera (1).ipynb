{
  "nbformat": 4,
  "nbformat_minor": 0,
  "metadata": {
    "colab": {
      "name": "Final_Project_Coursera.ipynb",
      "version": "0.3.2",
      "provenance": [],
      "collapsed_sections": [],
      "toc_visible": true
    },
    "kernelspec": {
      "name": "python3",
      "display_name": "Python 3"
    },
    "accelerator": "GPU"
  },
  "cells": [
    {
      "cell_type": "code",
      "metadata": {
        "id": "sL-eVKkfWW9q",
        "colab_type": "code",
        "colab": {}
      },
      "source": [
        "!pip install catboost  # My first aim is to use CatBoostRegressor to leverage its high computation efficiency."
      ],
      "execution_count": 0,
      "outputs": []
    },
    {
      "cell_type": "code",
      "metadata": {
        "id": "kxBJNfzne7a1",
        "colab_type": "code",
        "colab": {}
      },
      "source": [
        "!unzip \"competitive-data-science-predict-future-sales.zip\"  # I downloaded the dataset from kaggle webote in zipped format."
      ],
      "execution_count": 0,
      "outputs": []
    },
    {
      "cell_type": "code",
      "metadata": {
        "id": "5jAl2o3De943",
        "colab_type": "code",
        "colab": {}
      },
      "source": [
        ""
      ],
      "execution_count": 0,
      "outputs": []
    },
    {
      "cell_type": "code",
      "metadata": {
        "id": "YXUF98Q8_DJK",
        "colab_type": "code",
        "colab": {}
      },
      "source": [
        "import numpy as np  \n",
        "import pandas as pd   #numpy and pandas are the 2 most important libraries for Data Science.\n",
        "import sklearn \n",
        "import pickle\n",
        "from sklearn.metrics import mean_squared_error"
      ],
      "execution_count": 0,
      "outputs": []
    },
    {
      "cell_type": "code",
      "metadata": {
        "id": "BPo5Af0__SUY",
        "colab_type": "code",
        "colab": {}
      },
      "source": [
        "#Loading the data into pandas dataframes\n",
        "sales_train = pd.read_csv('/content/sales_train.csv.gz', compression='gzip')\n",
        "shops = pd.read_csv('/content/shops.csv')\n",
        "items = pd.read_csv('/content/items.csv')\n",
        "item_cats = pd.read_csv('/content/item_categories.csv')\n",
        "test = pd.read_csv('/content/test.csv.gz', compression = 'gzip')"
      ],
      "execution_count": 0,
      "outputs": []
    },
    {
      "cell_type": "code",
      "metadata": {
        "id": "vZE5y8AcLzru",
        "colab_type": "code",
        "colab": {
          "base_uri": "https://localhost:8080/",
          "height": 297
        },
        "outputId": "b3579c83-6552-49fb-e48c-5af9c302f77e"
      },
      "source": [
        "sales_train.describe()"
      ],
      "execution_count": 6,
      "outputs": [
        {
          "output_type": "execute_result",
          "data": {
            "text/html": [
              "<div>\n",
              "<style scoped>\n",
              "    .dataframe tbody tr th:only-of-type {\n",
              "        vertical-align: middle;\n",
              "    }\n",
              "\n",
              "    .dataframe tbody tr th {\n",
              "        vertical-align: top;\n",
              "    }\n",
              "\n",
              "    .dataframe thead th {\n",
              "        text-align: right;\n",
              "    }\n",
              "</style>\n",
              "<table border=\"1\" class=\"dataframe\">\n",
              "  <thead>\n",
              "    <tr style=\"text-align: right;\">\n",
              "      <th></th>\n",
              "      <th>date_block_num</th>\n",
              "      <th>shop_id</th>\n",
              "      <th>item_id</th>\n",
              "      <th>item_price</th>\n",
              "      <th>item_cnt_day</th>\n",
              "    </tr>\n",
              "  </thead>\n",
              "  <tbody>\n",
              "    <tr>\n",
              "      <th>count</th>\n",
              "      <td>2.935849e+06</td>\n",
              "      <td>2.935849e+06</td>\n",
              "      <td>2.935849e+06</td>\n",
              "      <td>2.935849e+06</td>\n",
              "      <td>2.935849e+06</td>\n",
              "    </tr>\n",
              "    <tr>\n",
              "      <th>mean</th>\n",
              "      <td>1.456991e+01</td>\n",
              "      <td>3.300173e+01</td>\n",
              "      <td>1.019723e+04</td>\n",
              "      <td>8.908532e+02</td>\n",
              "      <td>1.242641e+00</td>\n",
              "    </tr>\n",
              "    <tr>\n",
              "      <th>std</th>\n",
              "      <td>9.422988e+00</td>\n",
              "      <td>1.622697e+01</td>\n",
              "      <td>6.324297e+03</td>\n",
              "      <td>1.729800e+03</td>\n",
              "      <td>2.618834e+00</td>\n",
              "    </tr>\n",
              "    <tr>\n",
              "      <th>min</th>\n",
              "      <td>0.000000e+00</td>\n",
              "      <td>0.000000e+00</td>\n",
              "      <td>0.000000e+00</td>\n",
              "      <td>-1.000000e+00</td>\n",
              "      <td>-2.200000e+01</td>\n",
              "    </tr>\n",
              "    <tr>\n",
              "      <th>25%</th>\n",
              "      <td>7.000000e+00</td>\n",
              "      <td>2.200000e+01</td>\n",
              "      <td>4.476000e+03</td>\n",
              "      <td>2.490000e+02</td>\n",
              "      <td>1.000000e+00</td>\n",
              "    </tr>\n",
              "    <tr>\n",
              "      <th>50%</th>\n",
              "      <td>1.400000e+01</td>\n",
              "      <td>3.100000e+01</td>\n",
              "      <td>9.343000e+03</td>\n",
              "      <td>3.990000e+02</td>\n",
              "      <td>1.000000e+00</td>\n",
              "    </tr>\n",
              "    <tr>\n",
              "      <th>75%</th>\n",
              "      <td>2.300000e+01</td>\n",
              "      <td>4.700000e+01</td>\n",
              "      <td>1.568400e+04</td>\n",
              "      <td>9.990000e+02</td>\n",
              "      <td>1.000000e+00</td>\n",
              "    </tr>\n",
              "    <tr>\n",
              "      <th>max</th>\n",
              "      <td>3.300000e+01</td>\n",
              "      <td>5.900000e+01</td>\n",
              "      <td>2.216900e+04</td>\n",
              "      <td>3.079800e+05</td>\n",
              "      <td>2.169000e+03</td>\n",
              "    </tr>\n",
              "  </tbody>\n",
              "</table>\n",
              "</div>"
            ],
            "text/plain": [
              "       date_block_num       shop_id       item_id    item_price  item_cnt_day\n",
              "count    2.935849e+06  2.935849e+06  2.935849e+06  2.935849e+06  2.935849e+06\n",
              "mean     1.456991e+01  3.300173e+01  1.019723e+04  8.908532e+02  1.242641e+00\n",
              "std      9.422988e+00  1.622697e+01  6.324297e+03  1.729800e+03  2.618834e+00\n",
              "min      0.000000e+00  0.000000e+00  0.000000e+00 -1.000000e+00 -2.200000e+01\n",
              "25%      7.000000e+00  2.200000e+01  4.476000e+03  2.490000e+02  1.000000e+00\n",
              "50%      1.400000e+01  3.100000e+01  9.343000e+03  3.990000e+02  1.000000e+00\n",
              "75%      2.300000e+01  4.700000e+01  1.568400e+04  9.990000e+02  1.000000e+00\n",
              "max      3.300000e+01  5.900000e+01  2.216900e+04  3.079800e+05  2.169000e+03"
            ]
          },
          "metadata": {
            "tags": []
          },
          "execution_count": 6
        }
      ]
    },
    {
      "cell_type": "code",
      "metadata": {
        "id": "37e6spAhL_GP",
        "colab_type": "code",
        "colab": {
          "base_uri": "https://localhost:8080/",
          "height": 297
        },
        "outputId": "fefbeaed-3143-451a-c6a0-db0c755c96b0"
      },
      "source": [
        "shops.describe()"
      ],
      "execution_count": 7,
      "outputs": [
        {
          "output_type": "execute_result",
          "data": {
            "text/html": [
              "<div>\n",
              "<style scoped>\n",
              "    .dataframe tbody tr th:only-of-type {\n",
              "        vertical-align: middle;\n",
              "    }\n",
              "\n",
              "    .dataframe tbody tr th {\n",
              "        vertical-align: top;\n",
              "    }\n",
              "\n",
              "    .dataframe thead th {\n",
              "        text-align: right;\n",
              "    }\n",
              "</style>\n",
              "<table border=\"1\" class=\"dataframe\">\n",
              "  <thead>\n",
              "    <tr style=\"text-align: right;\">\n",
              "      <th></th>\n",
              "      <th>shop_id</th>\n",
              "    </tr>\n",
              "  </thead>\n",
              "  <tbody>\n",
              "    <tr>\n",
              "      <th>count</th>\n",
              "      <td>60.000000</td>\n",
              "    </tr>\n",
              "    <tr>\n",
              "      <th>mean</th>\n",
              "      <td>29.500000</td>\n",
              "    </tr>\n",
              "    <tr>\n",
              "      <th>std</th>\n",
              "      <td>17.464249</td>\n",
              "    </tr>\n",
              "    <tr>\n",
              "      <th>min</th>\n",
              "      <td>0.000000</td>\n",
              "    </tr>\n",
              "    <tr>\n",
              "      <th>25%</th>\n",
              "      <td>14.750000</td>\n",
              "    </tr>\n",
              "    <tr>\n",
              "      <th>50%</th>\n",
              "      <td>29.500000</td>\n",
              "    </tr>\n",
              "    <tr>\n",
              "      <th>75%</th>\n",
              "      <td>44.250000</td>\n",
              "    </tr>\n",
              "    <tr>\n",
              "      <th>max</th>\n",
              "      <td>59.000000</td>\n",
              "    </tr>\n",
              "  </tbody>\n",
              "</table>\n",
              "</div>"
            ],
            "text/plain": [
              "         shop_id\n",
              "count  60.000000\n",
              "mean   29.500000\n",
              "std    17.464249\n",
              "min     0.000000\n",
              "25%    14.750000\n",
              "50%    29.500000\n",
              "75%    44.250000\n",
              "max    59.000000"
            ]
          },
          "metadata": {
            "tags": []
          },
          "execution_count": 7
        }
      ]
    },
    {
      "cell_type": "code",
      "metadata": {
        "id": "gr5BAhoIMKZX",
        "colab_type": "code",
        "colab": {
          "base_uri": "https://localhost:8080/",
          "height": 297
        },
        "outputId": "a6061237-101c-42b2-ee96-6cc745d2d893"
      },
      "source": [
        "items.describe()"
      ],
      "execution_count": 8,
      "outputs": [
        {
          "output_type": "execute_result",
          "data": {
            "text/html": [
              "<div>\n",
              "<style scoped>\n",
              "    .dataframe tbody tr th:only-of-type {\n",
              "        vertical-align: middle;\n",
              "    }\n",
              "\n",
              "    .dataframe tbody tr th {\n",
              "        vertical-align: top;\n",
              "    }\n",
              "\n",
              "    .dataframe thead th {\n",
              "        text-align: right;\n",
              "    }\n",
              "</style>\n",
              "<table border=\"1\" class=\"dataframe\">\n",
              "  <thead>\n",
              "    <tr style=\"text-align: right;\">\n",
              "      <th></th>\n",
              "      <th>item_id</th>\n",
              "      <th>item_category_id</th>\n",
              "    </tr>\n",
              "  </thead>\n",
              "  <tbody>\n",
              "    <tr>\n",
              "      <th>count</th>\n",
              "      <td>22170.00000</td>\n",
              "      <td>22170.000000</td>\n",
              "    </tr>\n",
              "    <tr>\n",
              "      <th>mean</th>\n",
              "      <td>11084.50000</td>\n",
              "      <td>46.290753</td>\n",
              "    </tr>\n",
              "    <tr>\n",
              "      <th>std</th>\n",
              "      <td>6400.07207</td>\n",
              "      <td>15.941486</td>\n",
              "    </tr>\n",
              "    <tr>\n",
              "      <th>min</th>\n",
              "      <td>0.00000</td>\n",
              "      <td>0.000000</td>\n",
              "    </tr>\n",
              "    <tr>\n",
              "      <th>25%</th>\n",
              "      <td>5542.25000</td>\n",
              "      <td>37.000000</td>\n",
              "    </tr>\n",
              "    <tr>\n",
              "      <th>50%</th>\n",
              "      <td>11084.50000</td>\n",
              "      <td>40.000000</td>\n",
              "    </tr>\n",
              "    <tr>\n",
              "      <th>75%</th>\n",
              "      <td>16626.75000</td>\n",
              "      <td>58.000000</td>\n",
              "    </tr>\n",
              "    <tr>\n",
              "      <th>max</th>\n",
              "      <td>22169.00000</td>\n",
              "      <td>83.000000</td>\n",
              "    </tr>\n",
              "  </tbody>\n",
              "</table>\n",
              "</div>"
            ],
            "text/plain": [
              "           item_id  item_category_id\n",
              "count  22170.00000      22170.000000\n",
              "mean   11084.50000         46.290753\n",
              "std     6400.07207         15.941486\n",
              "min        0.00000          0.000000\n",
              "25%     5542.25000         37.000000\n",
              "50%    11084.50000         40.000000\n",
              "75%    16626.75000         58.000000\n",
              "max    22169.00000         83.000000"
            ]
          },
          "metadata": {
            "tags": []
          },
          "execution_count": 8
        }
      ]
    },
    {
      "cell_type": "code",
      "metadata": {
        "id": "hSv2BHGNMS5R",
        "colab_type": "code",
        "colab": {
          "base_uri": "https://localhost:8080/",
          "height": 297
        },
        "outputId": "ac39ea34-11df-48d6-b254-144713739a14"
      },
      "source": [
        "item_cats.describe()"
      ],
      "execution_count": 9,
      "outputs": [
        {
          "output_type": "execute_result",
          "data": {
            "text/html": [
              "<div>\n",
              "<style scoped>\n",
              "    .dataframe tbody tr th:only-of-type {\n",
              "        vertical-align: middle;\n",
              "    }\n",
              "\n",
              "    .dataframe tbody tr th {\n",
              "        vertical-align: top;\n",
              "    }\n",
              "\n",
              "    .dataframe thead th {\n",
              "        text-align: right;\n",
              "    }\n",
              "</style>\n",
              "<table border=\"1\" class=\"dataframe\">\n",
              "  <thead>\n",
              "    <tr style=\"text-align: right;\">\n",
              "      <th></th>\n",
              "      <th>item_category_id</th>\n",
              "    </tr>\n",
              "  </thead>\n",
              "  <tbody>\n",
              "    <tr>\n",
              "      <th>count</th>\n",
              "      <td>84.000000</td>\n",
              "    </tr>\n",
              "    <tr>\n",
              "      <th>mean</th>\n",
              "      <td>41.500000</td>\n",
              "    </tr>\n",
              "    <tr>\n",
              "      <th>std</th>\n",
              "      <td>24.392622</td>\n",
              "    </tr>\n",
              "    <tr>\n",
              "      <th>min</th>\n",
              "      <td>0.000000</td>\n",
              "    </tr>\n",
              "    <tr>\n",
              "      <th>25%</th>\n",
              "      <td>20.750000</td>\n",
              "    </tr>\n",
              "    <tr>\n",
              "      <th>50%</th>\n",
              "      <td>41.500000</td>\n",
              "    </tr>\n",
              "    <tr>\n",
              "      <th>75%</th>\n",
              "      <td>62.250000</td>\n",
              "    </tr>\n",
              "    <tr>\n",
              "      <th>max</th>\n",
              "      <td>83.000000</td>\n",
              "    </tr>\n",
              "  </tbody>\n",
              "</table>\n",
              "</div>"
            ],
            "text/plain": [
              "       item_category_id\n",
              "count         84.000000\n",
              "mean          41.500000\n",
              "std           24.392622\n",
              "min            0.000000\n",
              "25%           20.750000\n",
              "50%           41.500000\n",
              "75%           62.250000\n",
              "max           83.000000"
            ]
          },
          "metadata": {
            "tags": []
          },
          "execution_count": 9
        }
      ]
    },
    {
      "cell_type": "code",
      "metadata": {
        "id": "6OLgoHE3MWWX",
        "colab_type": "code",
        "colab": {
          "base_uri": "https://localhost:8080/",
          "height": 297
        },
        "outputId": "ae3488a9-f092-403b-8fd4-7026da83610b"
      },
      "source": [
        "test.describe()"
      ],
      "execution_count": 10,
      "outputs": [
        {
          "output_type": "execute_result",
          "data": {
            "text/html": [
              "<div>\n",
              "<style scoped>\n",
              "    .dataframe tbody tr th:only-of-type {\n",
              "        vertical-align: middle;\n",
              "    }\n",
              "\n",
              "    .dataframe tbody tr th {\n",
              "        vertical-align: top;\n",
              "    }\n",
              "\n",
              "    .dataframe thead th {\n",
              "        text-align: right;\n",
              "    }\n",
              "</style>\n",
              "<table border=\"1\" class=\"dataframe\">\n",
              "  <thead>\n",
              "    <tr style=\"text-align: right;\">\n",
              "      <th></th>\n",
              "      <th>ID</th>\n",
              "      <th>shop_id</th>\n",
              "      <th>item_id</th>\n",
              "    </tr>\n",
              "  </thead>\n",
              "  <tbody>\n",
              "    <tr>\n",
              "      <th>count</th>\n",
              "      <td>214200.000000</td>\n",
              "      <td>214200.000000</td>\n",
              "      <td>214200.000000</td>\n",
              "    </tr>\n",
              "    <tr>\n",
              "      <th>mean</th>\n",
              "      <td>107099.500000</td>\n",
              "      <td>31.642857</td>\n",
              "      <td>11019.398627</td>\n",
              "    </tr>\n",
              "    <tr>\n",
              "      <th>std</th>\n",
              "      <td>61834.358168</td>\n",
              "      <td>17.561933</td>\n",
              "      <td>6252.644590</td>\n",
              "    </tr>\n",
              "    <tr>\n",
              "      <th>min</th>\n",
              "      <td>0.000000</td>\n",
              "      <td>2.000000</td>\n",
              "      <td>30.000000</td>\n",
              "    </tr>\n",
              "    <tr>\n",
              "      <th>25%</th>\n",
              "      <td>53549.750000</td>\n",
              "      <td>16.000000</td>\n",
              "      <td>5381.500000</td>\n",
              "    </tr>\n",
              "    <tr>\n",
              "      <th>50%</th>\n",
              "      <td>107099.500000</td>\n",
              "      <td>34.500000</td>\n",
              "      <td>11203.000000</td>\n",
              "    </tr>\n",
              "    <tr>\n",
              "      <th>75%</th>\n",
              "      <td>160649.250000</td>\n",
              "      <td>47.000000</td>\n",
              "      <td>16071.500000</td>\n",
              "    </tr>\n",
              "    <tr>\n",
              "      <th>max</th>\n",
              "      <td>214199.000000</td>\n",
              "      <td>59.000000</td>\n",
              "      <td>22167.000000</td>\n",
              "    </tr>\n",
              "  </tbody>\n",
              "</table>\n",
              "</div>"
            ],
            "text/plain": [
              "                  ID        shop_id        item_id\n",
              "count  214200.000000  214200.000000  214200.000000\n",
              "mean   107099.500000      31.642857   11019.398627\n",
              "std     61834.358168      17.561933    6252.644590\n",
              "min         0.000000       2.000000      30.000000\n",
              "25%     53549.750000      16.000000    5381.500000\n",
              "50%    107099.500000      34.500000   11203.000000\n",
              "75%    160649.250000      47.000000   16071.500000\n",
              "max    214199.000000      59.000000   22167.000000"
            ]
          },
          "metadata": {
            "tags": []
          },
          "execution_count": 10
        }
      ]
    },
    {
      "cell_type": "code",
      "metadata": {
        "id": "SLQ89cKXMcRy",
        "colab_type": "code",
        "colab": {
          "base_uri": "https://localhost:8080/",
          "height": 773
        },
        "outputId": "95040526-acc6-4a09-93fe-47083aa0182f"
      },
      "source": [
        "import matplotlib.pyplot as plt\n",
        "\n",
        "cols = ['date_block_num', 'item_price', 'item_cnt_day']\n",
        "\n",
        "for col in cols:\n",
        "  sales_train[col].plot()\n",
        "  plt.show()\n",
        "\n"
      ],
      "execution_count": 12,
      "outputs": [
        {
          "output_type": "display_data",
          "data": {
            "image/png": "[encoded data removed]",
            "text/plain": [
              "<Figure size 432x288 with 1 Axes>"
            ]
          },
          "metadata": {
            "tags": []
          }
        },
        {
          "output_type": "display_data",
          "data": {
            "image/png": "[encoded data removed]",
            "text/plain": [
              "<Figure size 432x288 with 1 Axes>"
            ]
          },
          "metadata": {
            "tags": []
          }
        },
        {
          "output_type": "display_data",
          "data": {
            "image/png": "[encoded data removed]",
            "text/plain": [
              "<Figure size 432x288 with 1 Axes>"
            ]
          },
          "metadata": {
            "tags": []
          }
        }
      ]
    },
    {
      "cell_type": "code",
      "metadata": {
        "id": "atOPptPRNZwN",
        "colab_type": "code",
        "colab": {}
      },
      "source": [
        "temp = sales_train.groupby('date_block_num').aggregate({'item_cnt_day': 'sum', 'item_price':'mean'}).reset_index()"
      ],
      "execution_count": 0,
      "outputs": []
    },
    {
      "cell_type": "code",
      "metadata": {
        "id": "EcOZHEvrOFM8",
        "colab_type": "code",
        "colab": {
          "base_uri": "https://localhost:8080/",
          "height": 269
        },
        "outputId": "f791682e-ead9-4976-95bc-9b0cb924837f"
      },
      "source": [
        "plt.plot(temp['date_block_num'], temp['item_price'])\n",
        "plt.show()"
      ],
      "execution_count": 20,
      "outputs": [
        {
          "output_type": "display_data",
          "data": {
            "image/png": "[encoded data removed]",
            "text/plain": [
              "<Figure size 432x288 with 1 Axes>"
            ]
          },
          "metadata": {
            "tags": []
          }
        }
      ]
    },
    {
      "cell_type": "code",
      "metadata": {
        "id": "m7eWhVZ5OnFC",
        "colab_type": "code",
        "colab": {
          "base_uri": "https://localhost:8080/",
          "height": 269
        },
        "outputId": "75912998-1ab1-40a5-d44b-ebc365b3ba00"
      },
      "source": [
        "plt.plot(temp['date_block_num'], temp['item_cnt_day'])\n",
        "plt.show()"
      ],
      "execution_count": 19,
      "outputs": [
        {
          "output_type": "display_data",
          "data": {
            "image/png": "[encoded data removed]",
            "text/plain": [
              "<Figure size 432x288 with 1 Axes>"
            ]
          },
          "metadata": {
            "tags": []
          }
        }
      ]
    },
    {
      "cell_type": "code",
      "metadata": {
        "id": "HtxbBk8kPeiy",
        "colab_type": "code",
        "colab": {}
      },
      "source": [
        "del temp"
      ],
      "execution_count": 0,
      "outputs": []
    },
    {
      "cell_type": "markdown",
      "metadata": {
        "id": "yTn2ofoDPhMN",
        "colab_type": "text"
      },
      "source": [
        "The Time Series data reveals that on monthly basis, the total count of purchase decreases as time elapses and this is opposite to that of aveage item price. "
      ]
    },
    {
      "cell_type": "code",
      "metadata": {
        "id": "xcPpjTVe-93z",
        "colab_type": "code",
        "colab": {}
      },
      "source": [
        "from tqdm import tqdm_notebook\n",
        "from itertools import product\n",
        "import gc"
      ],
      "execution_count": 0,
      "outputs": []
    },
    {
      "cell_type": "markdown",
      "metadata": {
        "id": "btnkOsOXivVI",
        "colab_type": "text"
      },
      "source": [
        "Kaggle trick to clip the upper value of 'item_cnt_day' not to 20 but to a higher value so that more predictions of 'item_cnt_day' can be obtained. So a function is defined."
      ]
    },
    {
      "cell_type": "code",
      "metadata": {
        "id": "FTHZ5byMimJ8",
        "colab_type": "code",
        "colab": {}
      },
      "source": [
        "def clip20(x):\n",
        "    return np.clip(x, 0, 20)\n",
        "\n",
        "def clip40(x):\n",
        "    return np.clip(x, 0, 40)"
      ],
      "execution_count": 0,
      "outputs": []
    },
    {
      "cell_type": "code",
      "metadata": {
        "id": "GF7bgqbqg7kn",
        "colab_type": "code",
        "colab": {}
      },
      "source": [
        "# Here, this function will convert the numeric datatypes from 64bits to 32bits.\n",
        "# This is done for computation efficiency and to reduce overhead on GPU RAM.\n",
        "\n",
        "def downcast_dtypes(df):\n",
        "    \n",
        "    float_cols = [c for c in df if df[c].dtype == \"float64\"]\n",
        "    int_cols =   [c for c in df if df[c].dtype == \"int64\"]\n",
        "    \n",
        "    df[float_cols] = df[float_cols].astype(np.float32)\n",
        "    df[int_cols]   = df[int_cols].astype(np.int32)\n",
        "    \n",
        "    return df"
      ],
      "execution_count": 0,
      "outputs": []
    },
    {
      "cell_type": "code",
      "metadata": {
        "id": "57uq1NRghY1j",
        "colab_type": "code",
        "colab": {}
      },
      "source": [
        "def rmse(*args):\n",
        "    \n",
        "    return np.sqrt(mean_squared_error(*args))"
      ],
      "execution_count": 0,
      "outputs": []
    },
    {
      "cell_type": "markdown",
      "metadata": {
        "id": "aBFS1juMjDXq",
        "colab_type": "text"
      },
      "source": [
        "----- **From Kaggle Dataset Description, I found out that ID column of \"test\" is actually a unique identification of shop_id and item_id.**\n",
        "\n",
        "------ **The Training data has to be Aggregated so that is matches the distribution type of the Test data.**\n",
        "\n",
        "\n",
        "\n",
        "\n"
      ]
    },
    {
      "cell_type": "markdown",
      "metadata": {
        "id": "DXsKjzBSjV4J",
        "colab_type": "text"
      },
      "source": [
        "*-------- A trick illustrated by the instructors was to append the test data to the training data and calculating some lag features.*\n",
        "\n",
        "*-------- Our final prediction should be on a monthly basis and not on daily basis. So , the sales_train dataset has to be modified a bit.*"
      ]
    },
    {
      "cell_type": "markdown",
      "metadata": {
        "id": "wufmY6blj5oh",
        "colab_type": "text"
      },
      "source": [
        "---> So a function is defined for this"
      ]
    },
    {
      "cell_type": "code",
      "metadata": {
        "id": "lR7MNBwQhfv-",
        "colab_type": "code",
        "colab": {}
      },
      "source": [
        "def get_feature_matrix(sales, test, items, list_lags, date_block_threshold):\n",
        "    \n",
        "    \"\"\" This function create the model tablon\"\"\"\n",
        "  \n",
        "    # Creating \"grid\" with columns\n",
        "    index_cols = ['shop_id', 'item_id', 'date_block_num']\n",
        "\n",
        "    grid = [] \n",
        "    new_items = pd.DataFrame()\n",
        "    cur_items_aux=np.array([])\n",
        "    for block_num in sales['date_block_num'].unique():\n",
        "        cur_shops = sales.loc[sales['date_block_num'] == block_num, 'shop_id'].unique()\n",
        "        cur_items = sales.loc[sales['date_block_num'] == block_num, 'item_id'].append(pd.Series(cur_items_aux)).unique()\n",
        "        cur_items_aux = cur_items[pd.Series(cur_items).isin(test.item_id)]\n",
        "        grid.append(np.array(list(product(*[cur_shops, cur_items, [block_num]])),dtype='int32'))\n",
        "\n",
        "    # Turning the grid into a pandas dataframe\n",
        "    grid = pd.DataFrame(np.vstack(grid), columns = index_cols,dtype=np.int32)\n",
        "\n",
        "    # Add submission (shop_id-item_id) in order to test predictions\n",
        "    test['date_block_num'] = 34 \n",
        "    grid = grid.append(test[['shop_id', 'item_id', 'date_block_num']])\n",
        "\n",
        "    # Shop-item-month aggregate\n",
        "    gb = sales.groupby(index_cols,as_index=False).agg({'item_cnt_day':{'target':'sum'}})\n",
        "   \n",
        "    gb.columns = [col[0] if col[-1]=='' else col[-1] for col in gb.columns.values] \n",
        "    \n",
        "    all_data = pd.merge(grid, gb, how='left', on=index_cols).fillna(0)\n",
        "\n",
        "    # Shop-month aggregate\n",
        "    gb = sales.groupby(['shop_id', 'date_block_num'],as_index=False).agg({'item_cnt_day':{'target_shop':'sum'}})\n",
        "    gb.columns = [col[0] if col[-1]=='' else col[-1] for col in gb.columns.values]\n",
        "    all_data = pd.merge(all_data, gb, how='left', on=['shop_id', 'date_block_num']).fillna(0)\n",
        "\n",
        "    # item-month aggregate\n",
        "    gb = sales.groupby(['item_id', 'date_block_num'],as_index=False).agg({'item_cnt_day':{'target_item':'sum'}})\n",
        "    gb.columns = [col[0] if col[-1] == '' else col[-1] for col in gb.columns.values]\n",
        "    all_data = pd.merge(all_data, gb, how='left', on=['item_id', 'date_block_num']).fillna(0)\n",
        "\n",
        "    # Downcasting dtypes \n",
        "     all_data = downcast_dtypes(all_data)\n",
        "    del grid, gb \n",
        "    gc.collect()\n",
        "    # List of columns to create lags\n",
        "    cols_to_rename = list(all_data.columns.difference(index_cols)) \n",
        "\n",
        "    shift_range = list_lags\n",
        "\n",
        "    for month_shift in tqdm_notebook(shift_range):\n",
        "        train_shift = all_data[index_cols + cols_to_rename].copy()\n",
        "    \n",
        "        train_shift['date_block_num'] = train_shift['date_block_num'] + month_shift\n",
        "    \n",
        "        foo = lambda x: '{}_lag_{}'.format(x, month_shift) if x in cols_to_rename else x\n",
        "        train_shift = train_shift.rename(columns=foo)\n",
        "\n",
        "        all_data = pd.merge(all_data, train_shift, on=index_cols, how='left').fillna(0)\n",
        "\n",
        "    del train_shift\n",
        "\n",
        "    # No use of old data from year 2013\n",
        "    all_data = all_data[all_data['date_block_num'] >= date_block_threshold] \n",
        "\n",
        "    # List of all lagged features\n",
        "    fit_cols = [col for col in all_data.columns if col[-1] in [str(item) for item in shift_range]] \n",
        "    # We will drop these at fitting stage\n",
        "    to_drop_cols = list(set(list(all_data.columns)) - (set(fit_cols)|set(index_cols))) + ['date_block_num'] \n",
        "\n",
        "    # Category for each item\n",
        "    item_category_mapping = items[['item_id','item_category_id']].drop_duplicates()\n",
        "\n",
        "    all_data = pd.merge(all_data, item_category_mapping, how='left', on='item_id')\n",
        "    all_data = downcast_dtypes(all_data)\n",
        "    gc.collect();\n",
        "    \n",
        "    return [all_data, to_drop_cols]"
      ],
      "execution_count": 0,
      "outputs": []
    },
    {
      "cell_type": "markdown",
      "metadata": {
        "id": "rCF0s0pQkXeY",
        "colab_type": "text"
      },
      "source": [
        "***Data Leakage***\n",
        "    --Around 42% of training shop_id ~ item_id pairs are present in test set."
      ]
    },
    {
      "cell_type": "code",
      "metadata": {
        "id": "M-7YFy8M_u23",
        "colab_type": "code",
        "outputId": "06fe58ff-6891-4f3b-e2b9-338723263827",
        "colab": {
          "base_uri": "https://localhost:8080/",
          "height": 34
        }
      },
      "source": [
        "df = pd.Series(list(sales_train[['item_id', 'shop_id']].itertuples(index=False, name=None)))\n",
        "test_iter = pd.Series(list(test[['item_id', 'shop_id']].itertuples(index=False, name=None)))\n",
        "print(str(round(df.isin(test_iter).sum()/len(df),2)*100)+'%')"
      ],
      "execution_count": 0,
      "outputs": [
        {
          "output_type": "stream",
          "text": [
            "42.0%\n"
          ],
          "name": "stdout"
        }
      ]
    },
    {
      "cell_type": "markdown",
      "metadata": {
        "id": "YB5EYA6Tkx_7",
        "colab_type": "text"
      },
      "source": [
        "***Lag Features*** \n",
        "\n",
        "--- It is computationally ineffective on Google Colab to calculate lag for a large duration of time as the run-time crashes frequently. To keep it simple, lag duration of 1 , 2 , 3 months are taken into account.\n",
        "\n",
        "--- Also, from Kaggle kernels  I found out that 12 months is the maximum lag obtained in this dataset by those who have latest GPU architectures. As it becomes difficult to calculate huge lags on Colab, I will take the Kaggle Discussion as prima facie."
      ]
    },
    {
      "cell_type": "code",
      "metadata": {
        "id": "aIbPqpO6AnyK",
        "colab_type": "code",
        "colab": {}
      },
      "source": [
        "list_lags = [1, 2, 3]\n",
        "date_block_threshold = 12\n",
        "sales_modelling = sales_train[sales_train.item_id.isin(test.item_id)]\n",
        "[all_data, to_drop_cols]  = get_feature_matrix(sales_modelling, test, items, list_lags, date_block_threshold)"
      ],
      "execution_count": 0,
      "outputs": []
    },
    {
      "cell_type": "markdown",
      "metadata": {
        "id": "pS4daxNzmTXS",
        "colab_type": "text"
      },
      "source": [
        "***Encoding***\n",
        "\n",
        "------  In the course, one of the instructors had mentioned about mean encoding  and variance encoding as a powerful technique for obtaining good results."
      ]
    },
    {
      "cell_type": "code",
      "metadata": {
        "id": "RvLQ3FiBAwIQ",
        "colab_type": "code",
        "colab": {}
      },
      "source": [
        "mean_enc_item_cat = pd.DataFrame(all_data.groupby(['shop_id', \n",
        "                                                    'item_category_id']).target.agg(['mean', 'var']).reset_index())\n",
        "mean_enc_item_cat.columns = ['shop_id', 'item_category_id', 'mean_enc_cat_id', 'var_enc_cat_id']\n",
        "all_data = pd.merge(all_data, mean_enc_item_cat, how='left', on=['shop_id', 'item_category_id'])\n",
        "del mean_enc_item_cat\n",
        "all_data = downcast_dtypes(all_data)"
      ],
      "execution_count": 0,
      "outputs": []
    },
    {
      "cell_type": "markdown",
      "metadata": {
        "id": "4TyRGLsRm21u",
        "colab_type": "text"
      },
      "source": [
        "Train/Valid/Test Split"
      ]
    },
    {
      "cell_type": "code",
      "metadata": {
        "id": "YgbWfnOKA8Pa",
        "colab_type": "code",
        "colab": {}
      },
      "source": [
        "sub_data = all_data[all_data.date_block_num==34].fillna(0)\n",
        "all_data = all_data[all_data.date_block_num<34].fillna(0)"
      ],
      "execution_count": 0,
      "outputs": []
    },
    {
      "cell_type": "code",
      "metadata": {
        "id": "901Aadwq_rDy",
        "colab_type": "code",
        "colab": {}
      },
      "source": [
        "dates = all_data['date_block_num']\n",
        "boolean_test = (dates.isin([22,31,32,33]))  # My random choice\n",
        "boolean_train = ~boolean_test\n",
        "dates_train = dates[boolean_train]\n",
        "dates_val  = dates[boolean_test]\n",
        "\n",
        "X_train = all_data.loc[boolean_train].drop(to_drop_cols, axis=1)\n",
        "X_val =  all_data.loc[boolean_test].drop(to_drop_cols, axis=1)\n",
        "\n",
        "y_train = all_data.loc[boolean_train, 'target'].values\n",
        "y_val =  all_data.loc[boolean_test, 'target'].values"
      ],
      "execution_count": 0,
      "outputs": []
    },
    {
      "cell_type": "code",
      "metadata": {
        "id": "6u7R84m5BoQq",
        "colab_type": "code",
        "outputId": "275102c9-0ee8-4f1d-dbf7-6b560d7b7327",
        "colab": {
          "base_uri": "https://localhost:8080/",
          "height": 272
        }
      },
      "source": [
        "X_train.nunique()"
      ],
      "execution_count": 0,
      "outputs": [
        {
          "output_type": "execute_result",
          "data": {
            "text/plain": [
              "shop_id                54\n",
              "item_id              4045\n",
              "target_lag_1          344\n",
              "target_item_lag_1     579\n",
              "target_shop_lag_1     705\n",
              "target_lag_2          351\n",
              "target_item_lag_2     591\n",
              "target_shop_lag_2     700\n",
              "target_lag_3          348\n",
              "target_item_lag_3     597\n",
              "target_shop_lag_3     688\n",
              "item_category_id       58\n",
              "mean_enc_cat_id      2143\n",
              "var_enc_cat_id       2354\n",
              "dtype: int64"
            ]
          },
          "metadata": {
            "tags": []
          },
          "execution_count": 24
        }
      ]
    },
    {
      "cell_type": "markdown",
      "metadata": {
        "id": "txcd4GU4KQBC",
        "colab_type": "text"
      },
      "source": [
        "Here, these datasets are saved so as to use them for hyperparameter optimization outside this notebook."
      ]
    },
    {
      "cell_type": "code",
      "metadata": {
        "id": "b4-JGTe1JZrA",
        "colab_type": "code",
        "colab": {}
      },
      "source": [
        "pd.DataFrame(X_train).to_csv('X_train.csv')\n",
        "pd.DataFrame(X_val).to_csv('X_val.csv')\n",
        "pd.DataFrmae(y_train).to_csv('y_train.csv')\n",
        "pd.DataFrame(y_val).to_csv('y_val.csv')\n",
        "sub_data.to_csv('sub_data.csv')"
      ],
      "execution_count": 0,
      "outputs": []
    },
    {
      "cell_type": "markdown",
      "metadata": {
        "id": "eYVW0veynVQ8",
        "colab_type": "text"
      },
      "source": [
        "### CatBoost###\n",
        "\n",
        "CatBoost is a very powerful and fast Boosting Library for Boosted(Ordered) trees. It is much faster than XGBoost and LightGBM. CatBoost works best with categorical features. \n",
        "\n",
        "X_train has no categorical features but from intuition it can be said that shop_id and item_category_id can be considered as categories. There are over 4000 unique values in item_id, so it is better not to consider it as a categorical feature.\n",
        "\n",
        "I am just checking whether the CatBoost performs well or not."
      ]
    },
    {
      "cell_type": "code",
      "metadata": {
        "id": "NpsoB9PsCzQk",
        "colab_type": "code",
        "colab": {}
      },
      "source": [
        "!pip install catboost"
      ],
      "execution_count": 0,
      "outputs": []
    },
    {
      "cell_type": "code",
      "metadata": {
        "id": "hpCMyyq6CcSJ",
        "colab_type": "code",
        "colab": {}
      },
      "source": [
        "from catboost import CatBoostRegressor\n",
        "model = CatBoostRegressor(\n",
        "    iterations=800,\n",
        "    random_seed=2**7,\n",
        "    learning_rate=0.05,\n",
        "    od_type ='Iter',\n",
        "    od_wait = 20,\n",
        "    eval_metric = 'RMSE',\n",
        "    verbose = 50,\n",
        "    task_type='GPU',\n",
        "    )"
      ],
      "execution_count": 0,
      "outputs": []
    },
    {
      "cell_type": "code",
      "metadata": {
        "id": "W5jEz3zQCcMe",
        "colab_type": "code",
        "outputId": "30c903cd-c13d-4986-9789-240b82cc0dbc",
        "colab": {
          "base_uri": "https://localhost:8080/",
          "height": 258
        }
      },
      "source": [
        "model.fit(X_train, y_train, eval_set=(X_val, y_val), cat_features=['shop_id', 'item_category_id'])"
      ],
      "execution_count": 0,
      "outputs": [
        {
          "output_type": "stream",
          "text": [
            "0:\tlearn: 4.3528630\ttest: 4.3695294\tbest: 4.3695294 (0)\ttotal: 29.3ms\tremaining: 23.4s\n",
            "50:\tlearn: 2.5057464\ttest: 3.3448218\tbest: 3.3448218 (50)\ttotal: 994ms\tremaining: 14.6s\n",
            "100:\tlearn: 2.3081386\ttest: 3.2590365\tbest: 3.2590365 (100)\ttotal: 1.87s\tremaining: 12.9s\n",
            "150:\tlearn: 2.2085357\ttest: 3.2246747\tbest: 3.2246747 (150)\ttotal: 2.77s\tremaining: 11.9s\n",
            "200:\tlearn: 2.1457046\ttest: 3.2105307\tbest: 3.2105307 (200)\ttotal: 3.69s\tremaining: 11s\n",
            "250:\tlearn: 2.1007604\ttest: 3.1949214\tbest: 3.1949214 (250)\ttotal: 4.61s\tremaining: 10.1s\n",
            "300:\tlearn: 2.0621028\ttest: 3.1812785\tbest: 3.1811165 (295)\ttotal: 5.52s\tremaining: 9.15s\n",
            "350:\tlearn: 2.0305116\ttest: 3.1696874\tbest: 3.1693821 (345)\ttotal: 6.43s\tremaining: 8.23s\n",
            "400:\tlearn: 2.0059072\ttest: 3.1617089\tbest: 3.1614303 (397)\ttotal: 7.36s\tremaining: 7.32s\n",
            "bestTest = 3.159271657\n",
            "bestIteration = 412\n",
            "Shrink model to first 413 iterations.\n"
          ],
          "name": "stdout"
        },
        {
          "output_type": "execute_result",
          "data": {
            "text/plain": [
              "<catboost.core.CatBoostRegressor at 0x7ff3df4bedd8>"
            ]
          },
          "metadata": {
            "tags": []
          },
          "execution_count": 60
        }
      ]
    },
    {
      "cell_type": "markdown",
      "metadata": {
        "id": "FFXH2QegodAg",
        "colab_type": "text"
      },
      "source": [
        "I tried a lot of tuning of the parameters of CatBoost but to no avail. The minimum rmse on validation set was obtained to be 1.0005 after optimization and the optimized model scored 5/10 on Coursera grader with public/private score of 0.998 and 1.002.\n",
        "\n",
        "---------------------------------\n",
        "So, CatBoost can give us the best results in the presence of high cardinality categorical features as opposed to our case.\n",
        " So, I shall drop CatBoost"
      ]
    },
    {
      "cell_type": "markdown",
      "metadata": {
        "id": "YO-nuIQvo7c7",
        "colab_type": "text"
      },
      "source": [
        "### LightGBM\n",
        "\n",
        "Using LightGBM is better than XGBOOST due to speed and memory overhead issues. \n",
        "\n",
        "The only problem using LightGBM is that Colab has to be configured properly to set up GPU for LightGBM.\n",
        "On the other hand, XGBOOST can directly comply with GPU settings once runtime is set to GPU type."
      ]
    },
    {
      "cell_type": "code",
      "metadata": {
        "id": "2jETrqRJIrcM",
        "colab_type": "code",
        "colab": {}
      },
      "source": [
        "import  lightgbm as lgb"
      ],
      "execution_count": 0,
      "outputs": []
    },
    {
      "cell_type": "code",
      "metadata": {
        "id": "w__JaG-nKyC-",
        "colab_type": "code",
        "colab": {}
      },
      "source": [
        "X = X_train.append(X_val)\n",
        "y = np.append(y_train, y_val)"
      ],
      "execution_count": 0,
      "outputs": []
    },
    {
      "cell_type": "markdown",
      "metadata": {
        "id": "875r9gbHpgYq",
        "colab_type": "text"
      },
      "source": [
        "I have run certain hyperparameter tuning using hyperopt package. It took a very very long time to find a considerably optimal set of hyperparameters for lightgbm. Here, the best parameters are used."
      ]
    },
    {
      "cell_type": "code",
      "metadata": {
        "id": "rHh9kjKbCcGC",
        "colab_type": "code",
        "colab": {}
      },
      "source": [
        "lgb_params = {\n",
        "               'feature_fraction': 0.75,\n",
        "               'metric': 'rmse',\n",
        "               'nthread':1, \n",
        "               'min_data_in_leaf': 2**7, \n",
        "               'bagging_fraction': 0.75, \n",
        "               'learning_rate': 0.05, \n",
        "               'objective': 'mse', \n",
        "               'bagging_seed': 2**7, \n",
        "               'num_leaves': 2**7,\n",
        "               'bagging_freq':1,\n",
        "               'verbose':0,\n",
        "               \n",
        "              }\n",
        "lgb = lgb.train(lgb_params, lgb.Dataset(X, label=clip40(y)), int(100 * (0.05 / 0.03)))"
      ],
      "execution_count": 0,
      "outputs": []
    },
    {
      "cell_type": "markdown",
      "metadata": {
        "id": "t1IlrcqUryfG",
        "colab_type": "text"
      },
      "source": [
        "### Random Forest\n",
        "\n",
        "RandomForest is one of the best algorithms available. It is a highly customizable model that can run easily on a GPU or a CPU(using parallel construction of tress).  I wil use RandomForest as my 2nd model."
      ]
    },
    {
      "cell_type": "code",
      "metadata": {
        "id": "G-t4K8EzCb_h",
        "colab_type": "code",
        "colab": {}
      },
      "source": [
        "rf = RandomForestRegressor(bootstrap=0.7, criterion='mse', max_depth=12,\n",
        "           max_features=6, max_leaf_nodes=None, min_impurity_decrease=0.0,\n",
        "           min_impurity_split=None, min_samples_leaf=1,\n",
        "           min_samples_split=2, min_weight_fraction_leaf=0.0,\n",
        "           n_estimators=300, n_jobs=4, oob_score=False, random_state=None,\n",
        "           verbose=0, warm_start=False)"
      ],
      "execution_count": 0,
      "outputs": []
    },
    {
      "cell_type": "markdown",
      "metadata": {
        "id": "eOGhdwUsqHSN",
        "colab_type": "text"
      },
      "source": [
        "I have clipped the output display as it was very long."
      ]
    },
    {
      "cell_type": "code",
      "metadata": {
        "id": "D_UjzB2eCb5X",
        "colab_type": "code",
        "colab": {}
      },
      "source": [
        "rf.fit(X, clip40(y))"
      ],
      "execution_count": 0,
      "outputs": []
    },
    {
      "cell_type": "code",
      "metadata": {
        "id": "9QM4LaokeS8b",
        "colab_type": "code",
        "colab": {}
      },
      "source": [
        "pickle.dump(rf, open('/content/best_rf.sav', 'wb'))"
      ],
      "execution_count": 0,
      "outputs": []
    },
    {
      "cell_type": "code",
      "metadata": {
        "id": "QW_iarzQCbzY",
        "colab_type": "code",
        "colab": {}
      },
      "source": [
        "pickle.dump(lgb,open('/content/best_lgb.sav', \"wb\"))"
      ],
      "execution_count": 0,
      "outputs": []
    },
    {
      "cell_type": "markdown",
      "metadata": {
        "id": "ex5Ne0kIqbLW",
        "colab_type": "text"
      },
      "source": [
        "The best_lgb file is 3.25 MB and best_rf file is 104.37 MB in size. "
      ]
    },
    {
      "cell_type": "code",
      "metadata": {
        "id": "hhbe_YXZCbs-",
        "colab_type": "code",
        "colab": {}
      },
      "source": [
        "pred_lgb_val = clip20(lgb.predict(X_val))"
      ],
      "execution_count": 0,
      "outputs": []
    },
    {
      "cell_type": "code",
      "metadata": {
        "id": "_uYxUouwCbmx",
        "colab_type": "code",
        "colab": {}
      },
      "source": [
        "pred_rf_val = clip20(rf.predict(X_val.fillna(0)))"
      ],
      "execution_count": 0,
      "outputs": []
    },
    {
      "cell_type": "code",
      "metadata": {
        "id": "rW5P2LeSdT61",
        "colab_type": "code",
        "outputId": "9a4719ad-039e-4c8a-dc28-d7075b85da00",
        "colab": {
          "base_uri": "https://localhost:8080/",
          "height": 600
        }
      },
      "source": [
        "plt.scatter(pred_lgb_val, pred_rf_val)\n",
        "plt.show()"
      ],
      "execution_count": 0,
      "outputs": [
        {
          "output_type": "display_data",
          "data": {
            "image/png": "[encoded data removed]",
            "text/plain": [
              "<Figure size 720x720 with 1 Axes>"
            ]
          },
          "metadata": {
            "tags": []
          }
        }
      ]
    },
    {
      "cell_type": "markdown",
      "metadata": {
        "id": "kQCLv0EVq4DM",
        "colab_type": "text"
      },
      "source": [
        "The predictions of the RandomForest and LightGBM are linearly very close and seem to have a good positive correlation."
      ]
    },
    {
      "cell_type": "code",
      "metadata": {
        "id": "RxKmtQNaCbg4",
        "colab_type": "code",
        "colab": {}
      },
      "source": [
        "pred_lgb_test = lgb.predict(sub_data.drop(to_drop_cols, axis=1).fillna(0))"
      ],
      "execution_count": 0,
      "outputs": []
    },
    {
      "cell_type": "code",
      "metadata": {
        "id": "iltpVv0bCbbC",
        "colab_type": "code",
        "colab": {}
      },
      "source": [
        "test['item_cnt_month'] = pred_lgb_test\n",
        "test.drop(['shop_id', 'item_id', 'date_block_num'], axis=1, inplace=True)\n",
        "test.to_csv('/content/submission1.csv', index=False)"
      ],
      "execution_count": 0,
      "outputs": []
    },
    {
      "cell_type": "code",
      "metadata": {
        "id": "ccXSL-43CbJE",
        "colab_type": "code",
        "colab": {}
      },
      "source": [
        "pred_rf_test = rf.predict(sub_data.drop(to_drop_cols, axis=1).fillna(0))"
      ],
      "execution_count": 0,
      "outputs": []
    },
    {
      "cell_type": "code",
      "metadata": {
        "id": "6VH9qXZZCa1z",
        "colab_type": "code",
        "colab": {}
      },
      "source": [
        "test['item_cnt_month'] = pred_rf_test\n",
        "test.to_csv('/content/submission2.csv', index=False)"
      ],
      "execution_count": 0,
      "outputs": []
    },
    {
      "cell_type": "code",
      "metadata": {
        "id": "r406KTu4aOxh",
        "colab_type": "code",
        "outputId": "59780731-c80e-4a2b-d772-9d4696453f44",
        "colab": {
          "base_uri": "https://localhost:8080/",
          "height": 204
        }
      },
      "source": [
        "test.head()"
      ],
      "execution_count": 0,
      "outputs": [
        {
          "output_type": "execute_result",
          "data": {
            "text/html": [
              "<div>\n",
              "<style scoped>\n",
              "    .dataframe tbody tr th:only-of-type {\n",
              "        vertical-align: middle;\n",
              "    }\n",
              "\n",
              "    .dataframe tbody tr th {\n",
              "        vertical-align: top;\n",
              "    }\n",
              "\n",
              "    .dataframe thead th {\n",
              "        text-align: right;\n",
              "    }\n",
              "</style>\n",
              "<table border=\"1\" class=\"dataframe\">\n",
              "  <thead>\n",
              "    <tr style=\"text-align: right;\">\n",
              "      <th></th>\n",
              "      <th>ID</th>\n",
              "      <th>item_cnt_month</th>\n",
              "    </tr>\n",
              "  </thead>\n",
              "  <tbody>\n",
              "    <tr>\n",
              "      <th>0</th>\n",
              "      <td>0</td>\n",
              "      <td>0.540512</td>\n",
              "    </tr>\n",
              "    <tr>\n",
              "      <th>1</th>\n",
              "      <td>1</td>\n",
              "      <td>0.642425</td>\n",
              "    </tr>\n",
              "    <tr>\n",
              "      <th>2</th>\n",
              "      <td>2</td>\n",
              "      <td>0.959606</td>\n",
              "    </tr>\n",
              "    <tr>\n",
              "      <th>3</th>\n",
              "      <td>3</td>\n",
              "      <td>0.463816</td>\n",
              "    </tr>\n",
              "    <tr>\n",
              "      <th>4</th>\n",
              "      <td>4</td>\n",
              "      <td>3.191360</td>\n",
              "    </tr>\n",
              "  </tbody>\n",
              "</table>\n",
              "</div>"
            ],
            "text/plain": [
              "   ID  item_cnt_month\n",
              "0   0        0.540512\n",
              "1   1        0.642425\n",
              "2   2        0.959606\n",
              "3   3        0.463816\n",
              "4   4        3.191360"
            ]
          },
          "metadata": {
            "tags": []
          },
          "execution_count": 78
        }
      ]
    },
    {
      "cell_type": "code",
      "metadata": {
        "id": "2AbgU3GWcrTn",
        "colab_type": "code",
        "outputId": "d0e0892b-039f-434f-e0ce-c4688865c14f",
        "colab": {
          "base_uri": "https://localhost:8080/",
          "height": 600
        }
      },
      "source": [
        "plt.scatter(pred_rf_test, pred_lgb_test)\n",
        "plt.show()"
      ],
      "execution_count": 0,
      "outputs": [
        {
          "output_type": "display_data",
          "data": {
            "image/png": "[encoded data removed]",
            "text/plain": [
              "<Figure size 720x720 with 1 Axes>"
            ]
          },
          "metadata": {
            "tags": []
          }
        }
      ]
    },
    {
      "cell_type": "markdown",
      "metadata": {
        "id": "Q1S0nwbUsztU",
        "colab_type": "text"
      },
      "source": [
        "I submitted both the models' predictions and both the submissions scored 10/10. The Private Leader Board Score of the Random Forest model was 0.9212 and for the LightGBM model it was 0.9369.  Here, RandomForest seems to outperform LightGBM.\n",
        "\n",
        "I had also used stacking on both these models but the predictions scored 8/10 on the coursera leader board."
      ]
    }
  ]
}